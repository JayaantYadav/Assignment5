{
 "cells": [
  {
   "cell_type": "raw",
   "id": "21443d62-5add-4f45-a56a-bd6c25cfa6ea",
   "metadata": {},
   "source": [
    "Q1. Explain Class and Object with respect to Object-Oriented Programming. Give a suitable example."
   ]
  },
  {
   "cell_type": "markdown",
   "id": "380af0bd-3d9c-4805-b403-69ce7860fc2c",
   "metadata": {},
   "source": [
    "Python is an object oriented programming language.\n",
    "\n",
    "Almost everything in Python is an object, with its properties and methods.\n",
    "\n",
    "A Class is like an object constructor, or a \"blueprint\" for creating objects.\n",
    "\n",
    "Ex.\n",
    "Create a class named MyClass, with a property named x:\n",
    "\n",
    "class MyClass:\n",
    "  \n",
    "  x = 5 \n",
    "\n",
    "Ex.\n",
    "Create an object named p1, and print the value of x:\n",
    "\n",
    "p1 = MyClass()\n",
    "\n",
    "print(p1.x) "
   ]
  },
  {
   "cell_type": "raw",
   "id": "11053394-03a5-4eb1-8614-28ce30b637bb",
   "metadata": {},
   "source": [
    "Q2. Name the four pillars of OOPs."
   ]
  },
  {
   "cell_type": "markdown",
   "id": "4deafa74-2632-4809-8c27-8d61541ea844",
   "metadata": {},
   "source": [
    "Inheritance, Polymorphism, Encapsulation and Abstraction"
   ]
  },
  {
   "cell_type": "markdown",
   "id": "0321671d-34e2-4b94-ac4a-ca8795f56f52",
   "metadata": {},
   "source": [
    "Q3. Explain why the __init__() function is used. Give a suitable example."
   ]
  },
  {
   "cell_type": "markdown",
   "id": "068593e0-db8f-4e42-bd0e-60dd09550268",
   "metadata": {},
   "source": [
    "All classes have a function called __init__(), which is always executed when the class is being initiated.\n",
    "Use the __init__() function to assign values to object properties, or other operations that are necessary to do \n",
    "when the object is being created"
   ]
  },
  {
   "cell_type": "code",
   "execution_count": 2,
   "id": "b6e42d4b-fabf-4ab3-9325-51ebbd1dcaac",
   "metadata": {},
   "outputs": [
    {
     "name": "stdout",
     "output_type": "stream",
     "text": [
      "Jay\n",
      "25\n"
     ]
    }
   ],
   "source": [
    "# Example\n",
    "class Person:\n",
    "  def __init__(self, name, age):\n",
    "    self.name = name\n",
    "    self.age = age\n",
    "\n",
    "p1 = Person(\"Jay\", 25)\n",
    "\n",
    "print(p1.name)\n",
    "print(p1.age) "
   ]
  },
  {
   "cell_type": "raw",
   "id": "52023957-d968-406e-8d00-21b0f31d0a83",
   "metadata": {},
   "source": [
    "Q4. Why self is used in OOPs?"
   ]
  },
  {
   "cell_type": "markdown",
   "id": "b5d127f4-3080-4058-9cb2-ab872684211c",
   "metadata": {},
   "source": [
    "The self parameter is a reference to the current instance of the class, and is used to access variables that belongs to the class.\n",
    "\n",
    "It does not have to be named self , you can call it whatever you like, but it has to be the first parameter of any function in the class"
   ]
  },
  {
   "cell_type": "raw",
   "id": "8e3bbd04-f8d1-4101-ab3e-6252b50a4fc7",
   "metadata": {},
   "source": [
    "Q5. What is inheritance? Give an example for each type of inheritance."
   ]
  },
  {
   "cell_type": "markdown",
   "id": "82806915-f5fe-4c34-a0d9-92e1489bc139",
   "metadata": {},
   "source": [
    "Inheritance allows us to define a class that inherits all the methods and properties from another class."
   ]
  },
  {
   "cell_type": "code",
   "execution_count": 1,
   "id": "c7f92294-8e5c-4723-af76-4fcb000c422c",
   "metadata": {},
   "outputs": [],
   "source": [
    "class Person:\n",
    "  def __init__(self, fname, lname):\n",
    "    self.firstname = fname\n",
    "    self.lastname = lname\n",
    "\n",
    "  def printname(self):\n",
    "    print(self.firstname, self.lastname)\n"
   ]
  },
  {
   "cell_type": "code",
   "execution_count": 2,
   "id": "667b7a9e-0ecb-4b39-b0f4-e1efd2fe78b2",
   "metadata": {},
   "outputs": [
    {
     "name": "stdout",
     "output_type": "stream",
     "text": [
      "Jay Yadav\n"
     ]
    }
   ],
   "source": [
    "x = Person(\"Jay\", \"Yadav\")\n",
    "x.printname() "
   ]
  },
  {
   "cell_type": "code",
   "execution_count": 7,
   "id": "faa21161-9ae1-4796-ae6e-3c076028f224",
   "metadata": {},
   "outputs": [],
   "source": [
    "class Student(Person):\n",
    "    pass "
   ]
  },
  {
   "cell_type": "code",
   "execution_count": 6,
   "id": "e81bed77-8f2f-491c-8123-fdac05aa87bf",
   "metadata": {},
   "outputs": [
    {
     "name": "stdout",
     "output_type": "stream",
     "text": [
      "sudh kumar\n"
     ]
    }
   ],
   "source": [
    "x = Student(\"sudh\", \"kumar\")\n",
    "x.printname() "
   ]
  },
  {
   "cell_type": "code",
   "execution_count": null,
   "id": "7210fbb4-8108-441e-b2f6-d28efcd88046",
   "metadata": {},
   "outputs": [],
   "source": []
  }
 ],
 "metadata": {
  "kernelspec": {
   "display_name": "Python 3 (ipykernel)",
   "language": "python",
   "name": "python3"
  },
  "language_info": {
   "codemirror_mode": {
    "name": "ipython",
    "version": 3
   },
   "file_extension": ".py",
   "mimetype": "text/x-python",
   "name": "python",
   "nbconvert_exporter": "python",
   "pygments_lexer": "ipython3",
   "version": "3.10.8"
  }
 },
 "nbformat": 4,
 "nbformat_minor": 5
}
